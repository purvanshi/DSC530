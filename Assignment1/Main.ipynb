{
 "cells": [
  {
   "cell_type": "code",
   "execution_count": 1,
   "metadata": {},
   "outputs": [],
   "source": [
    "from nltk.parse import CoreNLPParser\n",
    "from nltk.tree import Tree\n",
    "import re\n",
    "from input_sentence import *\n",
    "\n",
    "count=0"
   ]
  },
  {
   "cell_type": "code",
   "execution_count": 2,
   "metadata": {},
   "outputs": [],
   "source": [
    "def traverse_tree(tree):\n",
    "    '''\n",
    "    Traverses a tree and outputs the tree head with numeric word order suffices attached\n",
    "    '''\n",
    "    global count\n",
    "    leaf=tree.leaves()\n",
    "    if len(leaf)==1:\n",
    "        if tree.height()==2 and tree.label()!='.':\n",
    "            count=count+1\n",
    "            tree[0]=tree[0]+' - '+str(count)\n",
    "    for subtree in tree:\n",
    "        if type(subtree) == Tree:\n",
    "            traverse_tree(subtree)\n",
    "    return tree\n",
    "\n",
    "def find_head(phrase):\n",
    "    '''\n",
    "    Give a phrase returns the head of the phrase\n",
    "    Output format - head word (string)\n",
    "    '''\n",
    "    pos_tags=[]\n",
    "    alltags=[]\n",
    "    p=0\n",
    "    leaf=1\n",
    "    for i in phrase:\n",
    "        if len(i)>1:\n",
    "            leaf=0\n",
    "    if leaf:\n",
    "        for j in precedence_list:\n",
    "            if p==1:\n",
    "                break\n",
    "            for word,pos in phrase.pos():        \n",
    "                noun=re.match(j,pos)\n",
    "                if noun and noun[0]:\n",
    "                    return word\n",
    "                    p=1\n",
    "                    break\n",
    "    else:\n",
    "        for j in precedence_list:\n",
    "            for subtree in phrase:\n",
    "                pos=subtree.label().split()[0]\n",
    "                noun=re.match(j,pos)\n",
    "                if noun and noun[0]:\n",
    "                    if len(subtree.label().split())>1:\n",
    "                        return ' '.join(subtree.label().split()[1:])\n",
    "                    else:\n",
    "                        for word,pos in subtree.pos():\n",
    "                            return word\n",
    "\n",
    "def dep_tree(tree):\n",
    "    '''\n",
    "    Main function to call the subtrees of the tree for head marking in a recursive fashion\n",
    "    Output - Tree with head words marked\n",
    "    '''\n",
    "    global temp\n",
    "    for subtree in tree:\n",
    "        if type(subtree) == Tree:\n",
    "            dep_tree(subtree)\n",
    "    if len(tree)==1 and tree.height()>2 and len(tree.leaves())==1:\n",
    "        leaf=tree.leaves()\n",
    "        templabel=tree.label()\n",
    "        newlabel=templabel+ ' ' + leaf[0]\n",
    "        tree.set_label(newlabel)\n",
    "    if len(tree)!=len(temp):\n",
    "        leaf=tree.leaves()\n",
    "        if len(leaf)>1:\n",
    "            head=find_head(tree)\n",
    "            if not head:\n",
    "                raise Exception('There are certain phrases for which I cannot find the heads as I do not have all the rules.  Please add rules and try again')\n",
    "\n",
    "            templabel=tree.label()\n",
    "            newlabel=templabel+' '+head\n",
    "            tree.set_label(newlabel)\n",
    "        elif len(leaf)==1:\n",
    "            templabel=tree.label()\n",
    "            newlabel=templabel+ ' ' + leaf[0]\n",
    "            tree.set_label(newlabel)\n",
    "    else:\n",
    "        return tree\n",
    "    \n",
    "def dep_list(tree,deplist):\n",
    "    '''\n",
    "    Function to set up dependency links. The dependency links are appended in a list for simplicity\n",
    "    '''\n",
    "    global temp\n",
    "    global treehead\n",
    "    for subtree in tree:\n",
    "        if type(subtree) == Tree:\n",
    "            dep_list(subtree,deplist)\n",
    "    children=tree.leaves()\n",
    "    if tree.height()>2:\n",
    "        if len(children)!=len(temp.leaves()):\n",
    "            for j in children:\n",
    "                if j!=' '.join(tree.label().split()[1:]) and (j not in [i[1] for i in deplist]):\n",
    "                    deplist.append([' '.join(tree.label().split()[1:]),j])\n",
    "    return deplist\n",
    "\n",
    "def sorting(elem):\n",
    "    '''\n",
    "    helper function to sort the dependencies according to their word suffices\n",
    "    '''\n",
    "    return elem[1].split()[2]\n"
   ]
  },
  {
   "cell_type": "code",
   "execution_count": 3,
   "metadata": {},
   "outputs": [],
   "source": [
    "parser = CoreNLPParser(url='http://localhost:9000')\n",
    "#Read the sentence and form the parse tree\n",
    "parser_output_splitted=parser.parse(sentence.split())\n",
    "\n",
    "for j in parser_output_splitted:\n",
    "    temp=j"
   ]
  },
  {
   "cell_type": "markdown",
   "metadata": {},
   "source": [
    "### Part 1"
   ]
  },
  {
   "cell_type": "code",
   "execution_count": 4,
   "metadata": {},
   "outputs": [
    {
     "name": "stdout",
     "output_type": "stream",
     "text": [
      "(ROOT\n",
      "  (S\n",
      "    (NP (PRP$ My - 1) (NN dog - 2))\n",
      "    (ADVP (RB also - 3))\n",
      "    (VP (VBZ likes - 4) (NP (JJ eating - 5) (NN sausage - 6)))\n",
      "    (. .)))\n"
     ]
    }
   ],
   "source": [
    "parser_output=traverse_tree(temp)\n",
    "print(parser_output)"
   ]
  },
  {
   "cell_type": "markdown",
   "metadata": {},
   "source": [
    "### Part 2"
   ]
  },
  {
   "cell_type": "code",
   "execution_count": 5,
   "metadata": {},
   "outputs": [
    {
     "name": "stdout",
     "output_type": "stream",
     "text": [
      "(ROOT\n",
      "  (S likes - 4\n",
      "    (NP dog - 2 (PRP$ My - 1) (NN dog - 2))\n",
      "    (ADVP also - 3 (RB also - 3))\n",
      "    (VP likes - 4\n",
      "      (VBZ likes - 4)\n",
      "      (NP sausage - 6 (JJ eating - 5) (NN sausage - 6)))\n",
      "    (. .)))\n"
     ]
    }
   ],
   "source": [
    "precedence_list=['VP','VB','VBG','VBZ',r'V*','NP','NN',r'N*','ADVP','JJ','P','RB','PRP$','PRP']\n",
    "deptree=dep_tree(parser_output)\n",
    "print(deptree)"
   ]
  },
  {
   "cell_type": "markdown",
   "metadata": {},
   "source": [
    "### Part 3"
   ]
  },
  {
   "cell_type": "code",
   "execution_count": 6,
   "metadata": {},
   "outputs": [
    {
     "name": "stdout",
     "output_type": "stream",
     "text": [
      "[['dog - 2', 'My - 1'], ['sausage - 6', 'eating - 5'], ['likes - 4', 'sausage - 6'], ['ROOT - 0', 'likes - 4']]\n"
     ]
    }
   ],
   "source": [
    "for subtree in deptree:\n",
    "    treehead=subtree.label()\n",
    "deplist=[]\n",
    "deplist=dep_list(deptree,deplist)\n",
    "deplist.append(['ROOT - 0',' '.join(treehead.split()[1:])])\n",
    "print(deplist)"
   ]
  },
  {
   "cell_type": "markdown",
   "metadata": {},
   "source": [
    "### Part 4"
   ]
  },
  {
   "cell_type": "code",
   "execution_count": 7,
   "metadata": {},
   "outputs": [
    {
     "name": "stdout",
     "output_type": "stream",
     "text": [
      "[['dog - 2', 'My - 1'], ['ROOT - 0', 'likes - 4'], ['sausage - 6', 'eating - 5'], ['likes - 4', 'sausage - 6']]\n"
     ]
    }
   ],
   "source": [
    "deplist=sorted(deplist,key= sorting)\n",
    "print(deplist)"
   ]
  },
  {
   "cell_type": "code",
   "execution_count": null,
   "metadata": {},
   "outputs": [],
   "source": []
  }
 ],
 "metadata": {
  "kernelspec": {
   "display_name": "parse",
   "language": "python",
   "name": "parse"
  },
  "language_info": {
   "codemirror_mode": {
    "name": "ipython",
    "version": 3
   },
   "file_extension": ".py",
   "mimetype": "text/x-python",
   "name": "python",
   "nbconvert_exporter": "python",
   "pygments_lexer": "ipython3",
   "version": "3.7.1"
  }
 },
 "nbformat": 4,
 "nbformat_minor": 2
}
