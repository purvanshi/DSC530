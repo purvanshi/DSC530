{
 "cells": [
  {
   "cell_type": "code",
   "execution_count": 1,
   "metadata": {},
   "outputs": [],
   "source": [
    "import numpy as np\n",
    "import math"
   ]
  },
  {
   "cell_type": "markdown",
   "metadata": {},
   "source": [
    "## Solution for Problem 1 and 2"
   ]
  },
  {
   "cell_type": "code",
   "execution_count": 35,
   "metadata": {},
   "outputs": [],
   "source": [
    "def euler_to_rotation(a,b,c):\n",
    "    R=np.matrix([[math.cos(a)*math.cos(b) , (math.cos(a)*math.sin(b)*math.sin(c))-(math.sin(a)**math.cos(c)) , (math.cos(a)*math.sin(b)*math.cos(c))+(math.sin(a)*math.sin(c))],\n",
    "                [(math.sin(a)*math.cos(b)) , (math.sin(a)*math.sin(b)*math.sin(c)) + (math.cos(a)*math.cos(c)), (math.sin(a)*math.sin(b)*math.cos(c))-(math.cos(a)*math.sin(c))],\n",
    "               [-1*math.sin(b) , math.cos(b)*math.sin(c) , math.cos(b)*math.cos(c)]])\n",
    "    return R"
   ]
  },
  {
   "cell_type": "code",
   "execution_count": 36,
   "metadata": {},
   "outputs": [],
   "source": [
    "def toDegrees(angle):\n",
    "    return angle * (math.pi/180);"
   ]
  },
  {
   "cell_type": "code",
   "execution_count": 37,
   "metadata": {},
   "outputs": [],
   "source": [
    "def find_sign(a,b):\n",
    "    if a-b>=0:\n",
    "        return 1\n",
    "    else:\n",
    "        return -1"
   ]
  },
  {
   "cell_type": "code",
   "execution_count": 57,
   "metadata": {},
   "outputs": [],
   "source": [
    "def rotation_to_unit_quaternion(R):\n",
    "    neta=0.5*math.sqrt((R.item(0,0)+R.item(1,1)+R.item(2,2)+1))\n",
    "    a=find_sign(R.item(2,1),R.item(1,2))\n",
    "    b=find_sign(R.item(0,2),R.item(2,0))\n",
    "    c=find_sign(R.item(1,0),R.item(0,1))\n",
    "    eta=np.matrix([[0.5*a*math.sqrt(R.item(0,0)-R.item(1,1)-R.item(2,2)+1)],\n",
    "                     [0.5*b*math.sqrt(R.item(1,1)-R.item(2,2)-R.item(0,0)+1)],\n",
    "                     [0.5*c*math.sqrt(R.item(2,2)-R.item(0,0)-R.item(1,1)+1)]])\n",
    "    return neta,eta"
   ]
  },
  {
   "cell_type": "markdown",
   "metadata": {},
   "source": [
    "## Solution to Problem 1"
   ]
  },
  {
   "cell_type": "code",
   "execution_count": 58,
   "metadata": {},
   "outputs": [],
   "source": [
    "conversion=toDegrees(60)"
   ]
  },
  {
   "cell_type": "code",
   "execution_count": 59,
   "metadata": {},
   "outputs": [],
   "source": [
    "ER=euler_to_rotation(conversion,0,0)"
   ]
  },
  {
   "cell_type": "code",
   "execution_count": 60,
   "metadata": {},
   "outputs": [
    {
     "data": {
      "text/plain": [
       "(0.8660254037844386, matrix([[0. ],\n",
       "         [0. ],\n",
       "         [0.5]]))"
      ]
     },
     "execution_count": 60,
     "metadata": {},
     "output_type": "execute_result"
    }
   ],
   "source": [
    "'''\n",
    "neta followed by eta for unit_quaternion representation\n",
    "'''\n",
    "\n",
    "rotation_to_unit_quaternion(ER)"
   ]
  },
  {
   "cell_type": "code",
   "execution_count": 61,
   "metadata": {},
   "outputs": [
    {
     "data": {
      "text/plain": [
       "matrix([[ 0.5      , -0.8660254,  0.       ],\n",
       "        [ 0.8660254,  0.5      ,  0.       ],\n",
       "        [-0.       ,  0.       ,  1.       ]])"
      ]
     },
     "execution_count": 61,
     "metadata": {},
     "output_type": "execute_result"
    }
   ],
   "source": [
    "ER\n",
    "'''\n",
    "Rotation matrix\n",
    "'''"
   ]
  },
  {
   "cell_type": "markdown",
   "metadata": {},
   "source": [
    "## Solution to problem 2"
   ]
  },
  {
   "cell_type": "code",
   "execution_count": 63,
   "metadata": {},
   "outputs": [],
   "source": [
    "conversion_a=toDegrees(90)\n",
    "conversion_b=toDegrees(60)\n",
    "conversion_c=toDegrees(22.5)"
   ]
  },
  {
   "cell_type": "code",
   "execution_count": 64,
   "metadata": {},
   "outputs": [],
   "source": [
    "ER=euler_to_rotation(conversion_a,-1*conversion_b,-1*conversion_c)"
   ]
  },
  {
   "cell_type": "code",
   "execution_count": 65,
   "metadata": {},
   "outputs": [
    {
     "data": {
      "text/plain": [
       "matrix([[ 3.06161700e-17, -1.00000000e+00, -3.82683432e-01],\n",
       "        [ 5.00000000e-01,  3.31413574e-01, -8.00103145e-01],\n",
       "        [ 8.66025404e-01, -1.91341716e-01,  4.61939766e-01]])"
      ]
     },
     "execution_count": 65,
     "metadata": {},
     "output_type": "execute_result"
    }
   ],
   "source": [
    "ER\n",
    "'''\n",
    "Rotation Matrix\n",
    "'''"
   ]
  },
  {
   "cell_type": "code",
   "execution_count": 66,
   "metadata": {},
   "outputs": [
    {
     "data": {
      "text/plain": [
       "(0.6695807158758449, matrix([[ 0.22729203],\n",
       "         [-0.4662279 ],\n",
       "         [ 0.53163103]]))"
      ]
     },
     "execution_count": 66,
     "metadata": {},
     "output_type": "execute_result"
    }
   ],
   "source": [
    "'''\n",
    "neta followed by eta for unit_quaternion representation\n",
    "'''\n",
    "\n",
    "rotation_to_unit_quaternion(ER)"
   ]
  },
  {
   "cell_type": "markdown",
   "metadata": {},
   "source": [
    "## Solution for Problem 3"
   ]
  },
  {
   "cell_type": "code",
   "execution_count": 68,
   "metadata": {},
   "outputs": [],
   "source": [
    "R=np.matrix([[0.6533, -0.6533, -0.3827],\n",
    "[-0.2706,0.2706, -0.9239],\n",
    "[0.7071, 0.7071, 0.0]])"
   ]
  },
  {
   "cell_type": "code",
   "execution_count": 69,
   "metadata": {},
   "outputs": [],
   "source": [
    "def rotation_to_euler(R):\n",
    "    alpha=math.atan2(-1*R.item(1,0),-1*R.item(0,0))\n",
    "    beta=math.atan2(-1*R.item(2,0),math.sqrt(R.item(2,1)**2+R.item(2,2)**2))\n",
    "    gamma=math.atan2(-1*R.item(2,1),-1*R.item(2,2))\n",
    "    return alpha,beta,gamma"
   ]
  },
  {
   "cell_type": "code",
   "execution_count": 70,
   "metadata": {},
   "outputs": [
    {
     "data": {
      "text/plain": [
       "(2.7489010456323224, -0.7853981633974483, -1.5707963267948966)"
      ]
     },
     "execution_count": 70,
     "metadata": {},
     "output_type": "execute_result"
    }
   ],
   "source": [
    "rotation_to_euler(R)"
   ]
  },
  {
   "cell_type": "code",
   "execution_count": 72,
   "metadata": {},
   "outputs": [
    {
     "data": {
      "text/plain": [
       "(0.693523611710517, matrix([[ 0.58794132],\n",
       "         [-0.39284221],\n",
       "         [ 0.13793114]]))"
      ]
     },
     "execution_count": 72,
     "metadata": {},
     "output_type": "execute_result"
    }
   ],
   "source": [
    "rotation_to_unit_quaternion(R)"
   ]
  },
  {
   "cell_type": "markdown",
   "metadata": {},
   "source": [
    "## Solution for Problem 4"
   ]
  },
  {
   "cell_type": "code",
   "execution_count": 26,
   "metadata": {},
   "outputs": [],
   "source": [
    "v,w = 0.5,-0.1\n",
    "alpha_one, alpha_two, alpha_three, alpha_four, alpha_five, alpha_six= 0.2, 0.1, 0.3, 0.2, 0.1, 0.3\n",
    "x, y, theta = 1, 0.75, 0.785\n",
    "delta_t = 0.25"
   ]
  },
  {
   "cell_type": "code",
   "execution_count": 30,
   "metadata": {},
   "outputs": [],
   "source": [
    "def sample_motion_model_velocity(u, w, x, y, theta):\n",
    "    v_cap = v + np.random.normal(loc = alpha_one * abs(v) + alpha_two * abs(w))\n",
    "    w_cap = w + np.random.normal(loc = alpha_three * abs(v) + alpha_four * abs(w))\n",
    "    \n",
    "    gamma_cap = np.random.normal(loc = alpha_five * abs(v) + alpha_six * abs(w))\n",
    "    \n",
    "    x_bar = x - (v_cap/w_cap) * math.sin(theta) + (v_cap/w_cap) * math.sin(theta + w_cap*delta_t)\n",
    "    y_bar = y + (v_cap/w_cap)* math.cos(theta) + (v_cap/w_cap) * math.cos(theta + w_cap*delta_t)\n",
    "    \n",
    "    theta_bar = theta + w_cap*delta_t + gamma_cap*delta_t\n",
    "    \n",
    "    # x_t = np.array([x_bar, y_bar, theta_bar])\n",
    "    \n",
    "    return x_bar, y_bar, theta_bar"
   ]
  },
  {
   "cell_type": "code",
   "execution_count": 31,
   "metadata": {},
   "outputs": [],
   "source": [
    "def motion_model_velocity(x_bar, y_bar, theta_bar, u, w, x, y, theta):\n",
    "    mu = ((x-x_bar) * math.cos(theta) + (y-y_bar) * math.sin(theta))/(2 * (y-y_bar) * math.cos(theta) - (x-x_bar) * math.sin(theta))\n",
    "    \n",
    "    x_star = ((x + x_bar) / 2) + mu * (y-y_bar)\n",
    "    y_star = ((y + y_bar) / 2) + mu * (x-x_bar)\n",
    "    \n",
    "    r_star = math.sqrt((x-x_star)**2 + (y-y_star)**2)\n",
    "    \n",
    "    delta_theta = math.atan2(y_bar - y_star , x_bar - x_star) - math.atan2(y-y_star, x-x_star)\n",
    "    \n",
    "    v_cap = (delta_theta / delta_t) * r_star\n",
    "    w_cap = (delta_theta / delta_t)\n",
    "    \n",
    "    gamma_cap = ((theta_bar - theta)/ delta_t) - w_cap\n",
    "    \n",
    "    return v_cap, w_cap, gamma_cap   \n",
    "    "
   ]
  },
  {
   "cell_type": "code",
   "execution_count": 36,
   "metadata": {},
   "outputs": [
    {
     "name": "stdout",
     "output_type": "stream",
     "text": [
      "x_t = [0.98840453 0.53155079 0.76066124]\n"
     ]
    }
   ],
   "source": [
    "x_bar, y_bar, theta_bar = sample_motion_model_velocity(u,w, x, y, theta)\n",
    "\n",
    "x_t = np.array([x_bar, y_bar, theta_bar])\n",
    "print (f'x_t = {x_t}')"
   ]
  },
  {
   "cell_type": "code",
   "execution_count": 38,
   "metadata": {},
   "outputs": [
    {
     "name": "stdout",
     "output_type": "stream",
     "text": [
      "v_cap = -2.9190073259292073 \n",
      "w_cap = -19.1623570113974 \n",
      "gamma_cap = 19.065001969319614\n"
     ]
    }
   ],
   "source": [
    "v_cap, w_cap, gamma_cap = motion_model_velocity(x_bar, y_bar, theta_bar, u, w, x, y, theta)\n",
    "print (f'v_cap = {v_cap} \\nw_cap = {w_cap} \\ngamma_cap = {gamma_cap}')"
   ]
  },
  {
   "cell_type": "code",
   "execution_count": 41,
   "metadata": {},
   "outputs": [],
   "source": [
    "def probability(a,b):\n",
    "    return (1/math.sqrt(2*3.14*b)) * math.exp((-a**2)/2 * b)"
   ]
  },
  {
   "cell_type": "code",
   "execution_count": 46,
   "metadata": {},
   "outputs": [
    {
     "name": "stdout",
     "output_type": "stream",
     "text": [
      "v Prob: 0.6325625665304959 \n",
      "w Prob: 3.731241694008559e-14 \n",
      "gamma Prob: 6.843525201897466e-07\n"
     ]
    }
   ],
   "source": [
    "print (f'v Prob: {probability(v-v_cap, alpha_one * abs(v) + alpha_two * abs(w))} \\nw Prob: {probability(w-w_cap, alpha_three * abs(v) + alpha_four * abs(w))} \\ngamma Prob: {probability(gamma_cap, alpha_five * abs(v) + alpha_six * abs(w))}')"
   ]
  },
  {
   "cell_type": "markdown",
   "metadata": {},
   "source": [
    "## Solution for Problem 5"
   ]
  },
  {
   "cell_type": "code",
   "execution_count": 76,
   "metadata": {},
   "outputs": [],
   "source": [
    "x,y,theta = 0,0,-0.2\n",
    "x_head, y_head, theta_head = 0,0,0\n",
    "x_head_bar, y_head_bar, theta_head_bar = 0.4, 0.2, 0.5\n",
    "alpha_one, alpha_two, alpha_three, alpha_four = 0.1, 0.2, 0.4, 0.3"
   ]
  },
  {
   "cell_type": "code",
   "execution_count": 77,
   "metadata": {},
   "outputs": [],
   "source": [
    "def motion_model_odometry(x,y,theta, x_head, y_head, theta_head, x_head_bar, y_head_bar, theta_head_bar):\n",
    "    d_rot1 = math.atan2(y_head_bar - y_head, x_head_bar - x_head) - theta_head\n",
    "    d_trans = math.sqrt((x_head - x_head_bar)**2 + (y_head - y_head_bar) ** 2)\n",
    "    d_rot2 = theta_head_bar - theta_head - d_rot1\n",
    "    \n",
    "    d_cap_rot1 = math.atan2(y_bar - y, x_bar - x) - theta\n",
    "    d_cap_trans = math.sqrt((x-x_bar)**2 + (y-y_bar)**2)\n",
    "    d_cap_rot2 = theta_bar - theta - d_cap_rot1\n",
    "    \n",
    "    return d_rot1, d_trans, d_rot2, d_cap_rot1, d_cap_trans, d_cap_rot2"
   ]
  },
  {
   "cell_type": "code",
   "execution_count": 78,
   "metadata": {},
   "outputs": [
    {
     "name": "stdout",
     "output_type": "stream",
     "text": [
      "d_cap_rot1 = 0.6934180492183304 \n",
      "d_cap_trans = 1.122269913931213 \n",
      "d_cap_rot2 = 0.267243190262223\n"
     ]
    }
   ],
   "source": [
    "d_rot1, d_trans, d_rot2, d_cap_rot1, d_cap_trans, d_cap_rot2 = motion_model_odometry(x,y,theta, x_head, y_head, theta_head, x_head_bar, y_head_bar, theta_head_bar)\n",
    "print (f'd_cap_rot1 = {d_cap_rot1} \\nd_cap_trans = {d_cap_trans} \\nd_cap_rot2 = {d_cap_rot2}')"
   ]
  },
  {
   "cell_type": "code",
   "execution_count": 80,
   "metadata": {},
   "outputs": [
    {
     "name": "stdout",
     "output_type": "stream",
     "text": [
      "P1: 1.0789502319609352 \n",
      "P2: 0.39293012047112497 \n",
      "P3: 0.7908997122945444\n"
     ]
    }
   ],
   "source": [
    "print (f'P1: {probability(d_rot1-d_cap_rot1, alpha_one * d_rot1 + alpha_two * d_trans)} \\nP2: {probability(d_trans - d_cap_trans, alpha_three * d_cap_trans + alpha_four * (d_cap_rot1 + d_cap_rot2))} \\nP3: {probability(d_rot2 - d_cap_rot2, alpha_one * d_cap_rot2 + alpha_two * d_cap_trans)}')"
   ]
  },
  {
   "cell_type": "code",
   "execution_count": null,
   "metadata": {},
   "outputs": [],
   "source": []
  }
 ],
 "metadata": {
  "kernelspec": {
   "display_name": "Python 3",
   "language": "python",
   "name": "python3"
  },
  "language_info": {
   "codemirror_mode": {
    "name": "ipython",
    "version": 3
   },
   "file_extension": ".py",
   "mimetype": "text/x-python",
   "name": "python",
   "nbconvert_exporter": "python",
   "pygments_lexer": "ipython3",
   "version": "3.5.0"
  }
 },
 "nbformat": 4,
 "nbformat_minor": 2
}
