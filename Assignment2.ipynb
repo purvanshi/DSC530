{
 "cells": [
  {
   "cell_type": "markdown",
   "metadata": {},
   "source": [
    "# Compositional interpretation of phrase structure trees\n",
    "To set up the environement follow the instructions from assignment 1"
   ]
  },
  {
   "cell_type": "markdown",
   "metadata": {},
   "source": [
    "## A fucntion that replaces all occurences of a given symbol in a given expression p[X]\n",
    "\n",
    "The function takes in input the expression to be replaced (in the form of string or integer)\n",
    "Expression q can be a list, integer or a string\n",
    "\n",
    "Convert P[X] -> P[Q] given Q"
   ]
  },
  {
   "cell_type": "code",
   "execution_count": 1,
   "metadata": {},
   "outputs": [],
   "source": [
    "def replace_(px,q,x):\n",
    "    if type(q)==list:\n",
    "        q=''.join(q)\n",
    "    if type(q)==int:\n",
    "        q=str(q)\n",
    "    new_string=px.replace(x, q)\n",
    "    return new_string"
   ]
  },
  {
   "cell_type": "code",
   "execution_count": 2,
   "metadata": {},
   "outputs": [
    {
     "data": {
      "text/plain": [
       "'A function that replacnot all occurencnot of a given symbol'"
      ]
     },
     "execution_count": 2,
     "metadata": {},
     "output_type": "execute_result"
    }
   ],
   "source": [
    "replace_('A function that replaces all occurences of a given symbol','not','es')"
   ]
  },
  {
   "cell_type": "code",
   "execution_count": 3,
   "metadata": {},
   "outputs": [
    {
     "data": {
      "text/plain": [
       "'A function that replacie all occurencie of a given symbol'"
      ]
     },
     "execution_count": 3,
     "metadata": {},
     "output_type": "execute_result"
    }
   ],
   "source": [
    "replace_('A function that replaces all occurences of a given symbol',['i','e'],'es')"
   ]
  },
  {
   "cell_type": "code",
   "execution_count": 4,
   "metadata": {},
   "outputs": [
    {
     "data": {
      "text/plain": [
       "'A function that replac2 all occurenc2 of a given symbol'"
      ]
     },
     "execution_count": 4,
     "metadata": {},
     "output_type": "execute_result"
    }
   ],
   "source": [
    "replace_('A function that replaces all occurences of a given symbol',2,'es')"
   ]
  },
  {
   "cell_type": "markdown",
   "metadata": {},
   "source": [
    "## Lambda conversion\n",
    "\n",
    "Single variable lambda conversion - \n",
    "\n",
    "Our aim is to convert ((\\lambda x P[X]) b) ---> P[b]\n",
    "\n",
    "The function takes the lambda function(lambda_x) as string and the variable as string and converts by using the function of part 1\n",
    "\n",
    "The lambda (variable) term is removed from the start by iterating and deleting it"
   ]
  },
  {
   "cell_type": "code",
   "execution_count": 448,
   "metadata": {},
   "outputs": [],
   "source": [
    "def lambda_conversion(lambda_x,replacement,variable):\n",
    "    temp=replace_(lambda_x,replacement,variable)\n",
    "    temp=temp.replace(temp[i],'',1)\n",
    "    while(temp[i]!=']'):\n",
    "        temp=temp.replace(temp[i],'',1)\n",
    "    temp=temp.replace(temp[i],'',1)\n",
    "    temp=temp.replace(temp[i],'',1)\n",
    "    return temp"
   ]
  },
  {
   "cell_type": "markdown",
   "metadata": {},
   "source": [
    "## Logical forms\n",
    "\n",
    "Given the phrase structure grammar and the logical form change the phrase tree structure into logical forms\n",
    "\n",
    "- First parse_tree function is called to find the phrase structures of the sentences.\n",
    "- The function traverse_tree traverses the tree in a bottom up manner and attaches the logical forms with the tree labels\n",
    "\n",
    "### Preprocessing of logical forms and \n",
    "- Both phrase and logical form lookups are converted into the python data stricture dictionary\n",
    "- every element was changed into a string.\n",
    "- Every element has a postfix as a number as python does not handle repeating elements in a dictionary\n",
    "- All the dictionary keys have been changes to lists\n",
    "- The key of phrase structure dictionary stores the grammar along with the sequence of combination in logical form\n",
    "\n",
    "### Combine\n",
    "- The function combine takes two expressions and combines them in logical forms according to the given sequence.\n",
    "- It searches if there is a λ term in the expression and performs a lambda conversion otherwise returns the elemenst in the given sequence in the form of a list\n",
    "- String formatting has been done like removing extra ',],[\n",
    "\n",
    "Note that the lambda expressions in the logical form dictionary have been replaced by x or y (Numerical postfixes have been removed) for simplicity"
   ]
  },
  {
   "cell_type": "code",
   "execution_count": 5,
   "metadata": {},
   "outputs": [],
   "source": [
    "from nltk.parse import CoreNLPParser\n",
    "from nltk.tree import Tree\n",
    "import re\n",
    "from input_sentence import *\n",
    "\n",
    "count=0"
   ]
  },
  {
   "cell_type": "code",
   "execution_count": 6,
   "metadata": {},
   "outputs": [],
   "source": [
    "parser = CoreNLPParser(url='http://localhost:9000')"
   ]
  },
  {
   "cell_type": "code",
   "execution_count": 139,
   "metadata": {},
   "outputs": [],
   "source": [
    "def parse_tree(sentence):\n",
    "    parser_output_splitted=parser.parse(sentence.split())\n",
    "\n",
    "    for j in parser_output_splitted:\n",
    "        temp=j\n",
    "    return temp"
   ]
  },
  {
   "cell_type": "code",
   "execution_count": 415,
   "metadata": {},
   "outputs": [],
   "source": [
    "logical_form={'NN0' : ['dog', 'dog.n'],\n",
    "'NN1' : ['sausage', 'sausage.n'],\n",
    "'NNS0' : ['sentences', 'sentence.n'],\n",
    "'NNP0' : ['Romeo', 'Romeo.c'],\n",
    "'NNP1' : ['Juliet', 'Juliet.c'],\n",
    "'PRP0' : ['We', 'we.pro'],\n",
    "'PRP$0' : ['My', 'my.d'],\n",
    "'PRP$1' : ['his', 'his.d'],\n",
    "'DT0' : ['all', \"all.d\"],\n",
    "'JJ0' : ['beloved', 'beloved.a'],\n",
    "'RB0' : ['also', 'also.adv'],\n",
    "'RB1' : ['not', 'not.adv'],\n",
    "'MD0' : ['will', 'will.v-aux'],\n",
    "'VBZ0' : ['likes', '(λ y (λ x (like.v x y)))'],\n",
    "'VBZ1' : ['longs', '(λ y (λ x (long.v x y)))'],\n",
    "'VBG0' : ['eating', '(λ w (λ z (eat.v z w)))'],\n",
    "'VB0' : ['try', '(λ x (λ u (try.v u x)))'],\n",
    "'VB1' : ['cover', '(λ w (λ z (cover.v z w)))'],\n",
    "'TO0' : ['to', 'ka'],\n",
    "'IN1' : ['for', 'for.p']}"
   ]
  },
  {
   "cell_type": "code",
   "execution_count": 416,
   "metadata": {},
   "outputs": [],
   "source": [
    "phrase_structure={'S0' : [['NP', 'ADVP', 'VP'], ([([2, 3]), 1])],\n",
    "'S1' : [['NP', 'VP'], ([2 ,1])],\n",
    "'S2' : [['VP'], ([1])],    \n",
    "'NP0' : [['NN'], ([1])],\n",
    "'NP1' : [['PRP'], ([1])],\n",
    "'NP2' : [['PRP$', 'NN'], ([1, 2])],\n",
    "'NP3' : [['NNP'], ([1])],\n",
    "'NP4' : [['PRP$', 'JJ', 'NN'], ([1 ,([2, 3])])],\n",
    "'NP5' : [['PRP$', 'JJ', 'NNP'], ([1,([2 ,([3])])])],  \n",
    "'NP6' : [['DT', 'NNS'], ([1, 2])],\n",
    "'ADVP0' : [['RB'], ([1])],\n",
    "'VP0' : [['VBZ'], ([1])],\n",
    "'VP1' : [['VBZ', 'PP'], ([1, 2])],\n",
    "'VP2' : [['VBZ', 'S'], ([1, 2])],\n",
    "'VP3' : [['VB', 'S'], ([1, 2])],\n",
    "'VP4' : [['VB', 'NP'], ([1, 2])],\n",
    "'VP5' : [['VBG', 'NP'], ([1, 2])],\n",
    "'VP6' : [['MD', 'VP'], ([1, 2])],\n",
    "'VP7' : [['MD', 'RB', 'VP'], ([1 ,([2, 3])])],\n",
    "'VP9' : [['VBZ','NP'],([1,2])],\n",
    "'VP8' : [['TO', 'VP'], ([1, 2])],\n",
    "'PP0' : [['IN', 'NP'], ([1, 2])]}"
   ]
  },
  {
   "cell_type": "code",
   "execution_count": 418,
   "metadata": {},
   "outputs": [],
   "source": [
    "parser_output1=parse_tree('Romeo likes Juliet')"
   ]
  },
  {
   "cell_type": "code",
   "execution_count": 371,
   "metadata": {},
   "outputs": [],
   "source": [
    "parser_output2=parse_tree('Romeo longs for his beloved Juliet')"
   ]
  },
  {
   "cell_type": "code",
   "execution_count": 372,
   "metadata": {},
   "outputs": [],
   "source": [
    "parser_output3=parse_tree('My dog also likes eating sausage')"
   ]
  },
  {
   "cell_type": "code",
   "execution_count": 447,
   "metadata": {},
   "outputs": [],
   "source": [
    "parser_output4=parse_tree('We will not try to cover all sentences')"
   ]
  },
  {
   "cell_type": "code",
   "execution_count": 373,
   "metadata": {},
   "outputs": [],
   "source": [
    "from IPython.display import display"
   ]
  },
  {
   "cell_type": "code",
   "execution_count": 379,
   "metadata": {},
   "outputs": [],
   "source": [
    "def combine(logics,sequence):\n",
    "    logic=[]\n",
    "    if len(sequence)==1:\n",
    "        return [logics]\n",
    "    elif len(sequence)==2:\n",
    "        if 'λ' in logics[sequence[0]-1]:\n",
    "            for i in range(len(logics[sequence[0]-1])):\n",
    "                if logics[sequence[0]-1][i]=='λ':\n",
    "                    temp=i\n",
    "                    break\n",
    "            return lambda_conversion(logics[sequence[0]-1],logics[sequence[1]-1],logics[sequence[0]-1][i+1])\n",
    "        else:\n",
    "            return [logics[sequence[0]-1],logics[sequence[1]-1]]\n",
    "    else:\n",
    "        if 'λ' in logics[1]:\n",
    "            for i in range(len(logics[1])):\n",
    "                if logics[1][i]=='λ':\n",
    "                    temp=i\n",
    "                    break\n",
    "            first= lambda_conversion(logics[1],logics[2],logics[1][i+1])\n",
    "            if 'λ' in logics[0]:\n",
    "                print('To do')\n",
    "            if sequence[0]==1:\n",
    "                return [logics[0],first]\n",
    "            elif sequence[0]==2:\n",
    "                return [first,logics[0]]\n",
    "        else:\n",
    "            if sequence[0]==1:\n",
    "                return [logics[0],[logics[1],logics[2]]]\n",
    "            elif sequence[0]==2:\n",
    "                return [[logics[1],logics[2]],logics[0]]\n",
    "            return logic"
   ]
  },
  {
   "cell_type": "code",
   "execution_count": 439,
   "metadata": {},
   "outputs": [],
   "source": [
    "def traverse_tree(tree):\n",
    "    for subtree in tree:\n",
    "        if type(subtree) == Tree:\n",
    "            traverse_tree(subtree)\n",
    "    leaf=tree.leaves()\n",
    "    \n",
    "    if len(leaf)==1 and tree.height()==2:\n",
    "        for postag, lform in logical_form.items():\n",
    "            if leaf[0] == lform[0]:\n",
    "                temp=tree.label()+' - ['+str(lform[1]) +']'\n",
    "                tree.set_label(temp)\n",
    "    else:\n",
    "        label=[]\n",
    "        logics=[]\n",
    "        for subtree in tree:\n",
    "            l=subtree.label()\n",
    "            label.append(l.split()[0])\n",
    "            logics.append(''.join(l.split()[1:]))\n",
    "        for postag,lform in phrase_structure.items():\n",
    "            if label==lform[0]:\n",
    "                temp=combine(logics,lform[1])\n",
    "                temp=str(temp)\n",
    "                temp=temp.replace('\\\\','')\n",
    "                temp=temp.replace('[','')\n",
    "                temp=temp.replace(']','')\n",
    "                temp=tree.label()+' - '+str(temp)\n",
    "                tree.set_label(temp)\n",
    "    return tree"
   ]
  },
  {
   "cell_type": "code",
   "execution_count": 85,
   "metadata": {},
   "outputs": [
    {
     "name": "stdout",
     "output_type": "stream",
     "text": [
      "(ROOT\n",
      "  (S - (like.v[['Romeo.c']][['Juliet.c']])))\n",
      "    (NP - [['-Romeo.c']] (NNP - Romeo.c Romeo))\n",
      "    (VP - (λx(like.vx[['Juliet.c']])))\n",
      "      (VBZ - (λ y (λ x (like.v x y))) likes)\n",
      "      (NP - [['-Juliet.c']] (NNP - Juliet.c Juliet)))))\n"
     ]
    },
    {
     "data": {
      "text/plain": [
       "'\\nSentence 1 - Romeo likes Juliet\\n'"
      ]
     },
     "execution_count": 85,
     "metadata": {},
     "output_type": "execute_result"
    }
   ],
   "source": [
    "# print(traverse_tree(parser_output1))\n",
    "\n",
    "# '''\n",
    "# Sentence 1 - Romeo likes Juliet\n",
    "# '''"
   ]
  },
  {
   "cell_type": "code",
   "execution_count": 124,
   "metadata": {},
   "outputs": [
    {
     "name": "stdout",
     "output_type": "stream",
     "text": [
      "(ROOT\n",
      "  (S - (long.v-[['-Romeo.c']]-['-for.p',\"-['-his.d',['-beloved.a','-Juliet.c']]\"])))\n",
      "    (NP - [['-Romeo.c']] (NNP - Romeo.c Romeo))\n",
      "    (VP - \"](λx(long.vx-['-for.p',\"-['-his.d',['-beloved.a','-Juliet.c']]\"])))\n",
      "      (VBZ - (λ y (λ x (long.v x y))) longs)\n",
      "      (PP - ['-for.p', \"-['-his.d',['-beloved.a','-Juliet.c']]\"]\n",
      "        (IN - for.p for)\n",
      "        (NP - ['-his.d', ['-beloved.a', '-Juliet.c']]\n",
      "          (PRP$ - his.d his)\n",
      "          (JJ - beloved.a beloved)\n",
      "          (NNP - Juliet.c Juliet))))))\n"
     ]
    },
    {
     "data": {
      "text/plain": [
       "'Romeo longs for his beloved Juliet'"
      ]
     },
     "execution_count": 124,
     "metadata": {},
     "output_type": "execute_result"
    }
   ],
   "source": [
    "# print(traverse_tree(parser_output2))\n",
    "\n",
    "# '''Romeo longs for his beloved Juliet'''"
   ]
  },
  {
   "cell_type": "code",
   "execution_count": 250,
   "metadata": {},
   "outputs": [
    {
     "name": "stdout",
     "output_type": "stream",
     "text": [
      "(ROOT\n",
      "  (S - -[\"-[['-[also.adv]']]\",'))]((like.v-['-[my.d]','-[dog.n]']-λz(eat.vz-[sausage.n])))])))]']\n",
      "    (NP - ['-[my.d]', '-[dog.n]']\n",
      "      (PRP$ - [my.d] My)\n",
      "      (NN - [dog.n] dog))\n",
      "    (VP - [\"-[['-[also.adv]']]\", '))](λx(like.vx-λz(eat.vz-[sausage.n])))])))]']\n",
      "      (ADVP - [['-[also.adv]']] (RB - [also.adv] also))\n",
      "      (VBZ - [(λ y (λ x (like.v x y)))] likes)\n",
      "      (NP - λz(eat.vz-[sausage.n])))]\n",
      "        (JJ - [(λ w (λ z (eat.v z w)))] eating)\n",
      "        (NN - [sausage.n] sausage)))))\n"
     ]
    }
   ],
   "source": [
    "print(traverse_tree(parser_output3))\n",
    "\n",
    "# '''My dog also likes eating sausage'''"
   ]
  },
  {
   "cell_type": "code",
   "execution_count": 446,
   "metadata": {},
   "outputs": [
    {
     "name": "stdout",
     "output_type": "stream",
     "text": [
      "(ROOT\n",
      "  (S  will.vaux,not.adv,((λu(try.vuka,(λz(cover.vzall.d,sentence.n)))))), we.pro\n",
      "    (NP - '-we.pro' (PRP - [we.pro] We))\n",
      "    (VP - '-will.v-aux', '-not.adv', '--((λu(try.vu-'-'-ka',\"--(λz(cover.vz-'-all.d','-sentence.n')))\"')))'\n",
      "      (MD - [will.v-aux] will)\n",
      "      (RB - [not.adv] not)\n",
      "      (VP - -((λu(try.vu-'-'-ka',\"--(λz(cover.vz-'-all.d','-sentence.n')))\"')))\n",
      "        (VB - [(λ x (λ u (try.v u x)))] try)\n",
      "        (S - '-'-ka',\"--(λz(cover.vz-'-all.d','-sentence.n')))\"'\n",
      "          (VP - '-ka', \"--(λz(cover.vz-'-all.d','-sentence.n')))\"\n",
      "            (TO - [ka] to)\n",
      "            (VP - -(λz(cover.vz-'-all.d','-sentence.n')))\n",
      "              (VB - [(λ w (λ z (cover.v z w)))] cover)\n",
      "              (NP - '-all.d', '-sentence.n'\n",
      "                (DT - [all.d] all)\n",
      "                (NNS - [sentence.n] sentences)))))))))\n"
     ]
    }
   ],
   "source": [
    "print(traverse_tree(parser_output4))\n",
    "\n",
    "# '''We will not cover all sentences'''"
   ]
  },
  {
   "cell_type": "markdown",
   "metadata": {},
   "source": [
    "## Challenges and take away\n",
    "\n",
    "The assignment taught me an in depth understanding of forming logical forms from phrase structure. The biggest challenge was to handle everything as strings. extracting the lambda expression, replacing and deleting them again. Another part was combining two lambda expressions and the naming of the variables."
   ]
  },
  {
   "cell_type": "markdown",
   "metadata": {},
   "source": [
    "## Possible Improvements\n",
    "As seen in the last part, there are no spaces between try.vuka which should ideally be try.v u ka but due to multiple replacement the space gets replaced. Next part as an extension could be to handle these strings in a better way or through a data structure."
   ]
  },
  {
   "cell_type": "code",
   "execution_count": null,
   "metadata": {},
   "outputs": [],
   "source": []
  }
 ],
 "metadata": {
  "kernelspec": {
   "display_name": "parse",
   "language": "python",
   "name": "parse"
  },
  "language_info": {
   "codemirror_mode": {
    "name": "ipython",
    "version": 3
   },
   "file_extension": ".py",
   "mimetype": "text/x-python",
   "name": "python",
   "nbconvert_exporter": "python",
   "pygments_lexer": "ipython3",
   "version": "3.7.1"
  }
 },
 "nbformat": 4,
 "nbformat_minor": 2
}
